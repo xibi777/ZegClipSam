{
 "cells": [
  {
   "cell_type": "code",
   "execution_count": null,
   "metadata": {},
   "outputs": [],
   "source": [
    "from PIL import Image\n",
    "import matplotlib.pyplot as plt\n",
    "\n",
    "gt_ann=self.gt_ann[:334,:]\n",
    "gt_ann = torch.from_numpy(gt_ann)\n",
    "gt_ann[gt_ann==0]=255\n",
    "gt_ann[gt_ann!=255]-=1\n",
    "em = F.interpolate(patch_token[0], size=334,mode='bilinear', align_corners=False)\n",
    "\n",
    "label=torch.zeros_like(gt_ann)\n",
    "label[gt_ann==1]=1\n",
    "proto = (torch.einsum(\"dhw,hw->dhw\", em.squeeze(), label.to(em.device)).sum(-1).sum(-1)) / label.sum()\n",
    "cos_proto = torch.cosine_similarity(em.squeeze().reshape(768, 334*334).permute(1,0), proto.unsqueeze(0)).reshape(334,334)\n",
    "plt.imshow(cos_proto.cpu().numpy())\n",
    "plt.savefig('/media/data/ziqin/code/FewViT/vis_images/vis_appendix/ft_semantic_grouping/1_bicycle.png')\n",
    "\n",
    "pred_ = F.sigmoid(F.interpolate(pred, size=334,mode='bilinear', align_corners=False)[:,14])\n",
    "plt.imshow(pred_.squeeze().cpu().numpy())\n",
    "plt.savefig('/media/data/ziqin/code/FewViT/vis_images/vis_appendix/ft_semantic_grouping/1_people_pred.png')"
   ]
  },
  {
   "cell_type": "code",
   "execution_count": 8,
   "metadata": {},
   "outputs": [
    {
     "name": "stdout",
     "output_type": "stream",
     "text": [
      "(80,)\n"
     ]
    }
   ],
   "source": [
    "import numpy as np\n",
    "metric=np.array([0.44880000000000003,0.1638,0.32520000000000004, 0.2565,0.4471,0.2021, 0.2043, 0.0759,0.2145, 0.2862,0.235, 0.2895,\n",
    "        0.1059,0.2021,0.2303,0.2839,0.1188,0.2473,0.212,0.1057, 0.3734,0.1924,0.5068,0.3829,0.0262,0.4014,0.014499999999999999,\n",
    "        0.0158,0.11359999999999999,0.1873,0.10880000000000001,0.0262,0.1419,0.0953,0.0355,0.030899999999999997,0.0545, 0.1996,\n",
    "        0.3632,0.3143,0.2673,0.1389,0.134,0.0281,0.008199999999999999,0.107,0.431,0.3124,0.0633,0.3378,0.34149999999999997,\n",
    "        0.0649,0.08460000000000001,0.3712,0.207,0.0827, 0.1941,0.3098,0.3872,0.31010000000000004,0.4035,0.2883,0.3435,0.1592,\n",
    "        0.08470000000000001,0.0155,0.2724,0.046799999999999994,0.0626,0.0934,0.0,0.23920000000000002,0.1723,0.21239999999999998, \n",
    "        0.3538,0.10099999999999999,0.0516,0.2633,0.0,0.0146])\n",
    "print(metric.shape)"
   ]
  },
  {
   "cell_type": "code",
   "execution_count": 13,
   "metadata": {},
   "outputs": [
    {
     "name": "stdout",
     "output_type": "stream",
     "text": [
      "0.15703\n"
     ]
    }
   ],
   "source": [
    "mIoU=0\n",
    "for i in range(20):\n",
    "    mIoU+=metric[4*i+3]\n",
    "print(mIoU/20)"
   ]
  },
  {
   "cell_type": "code",
   "execution_count": null,
   "metadata": {},
   "outputs": [],
   "source": [
    "mask = np.array([\n",
    "    [0,0,0,0,0,0,0,1,1,1,0,0,0,0,0,0],\n",
    "    [0,0,0,0,0,0,0,1,1,1,1,1,1,0,0,0],\n",
    "    [0,0,0,0,0,0,0,0,1,1,1,1,1,1,1,0],\n",
    "    [0,0,0,0,0,0,0,0,1,1,1,1,1,1,1,0],\n",
    "    [0,0,0,0,0,0,0,0,1,0,1,1,1,1,1,1],\n",
    "    [0,0,0,0,0,0,0,0,1,0,1,1,1,1,1,1],\n",
    "    [0,0,0,0,0,2,2,2,2,1,1,1,1,1,1,0],\n",
    "    [0,0,0,0,0,2,2,1,1,1,1,1,1,1,2,0],\n",
    "    [0,0,0,0,0,2,2,2,2,2,1,1,1,2,2,0],\n",
    "    [0,0,0,0,2,2,0,2,2,2,1,0,1,1,2,2],\n",
    "    [0,0,0,2,0,0,2,2,0,2,2,1,2,1,1,2],\n",
    "    [0,0,0,2,0,0,2,2,0,2,1,2,2,2,1,1],\n",
    "    [0,0,0,2,0,0,0,0,0,2,2,2,2,2,1,2],\n",
    "    [0,0,0,2,0,0,0,0,0,2,0,2,2,2,2,2],\n",
    "    [0,0,0,0,2,2,2,2,2,0,0,0,0,2,2,2],\n",
    "    [0,0,0,0,0,0,0,0,0,0,0,0,0,0,0,0],\n",
    "])"
   ]
  },
  {
   "cell_type": "code",
   "execution_count": 24,
   "metadata": {},
   "outputs": [
    {
     "data": {
      "text/plain": [
       "62.13581616481775"
      ]
     },
     "execution_count": 24,
     "metadata": {},
     "output_type": "execute_result"
    }
   ],
   "source": [
    "def hiou(a,b):\n",
    "    return (2*a*b/(a+b))\n",
    "\n",
    "hiou(55.3, 70.9)"
   ]
  },
  {
   "cell_type": "code",
   "execution_count": null,
   "metadata": {},
   "outputs": [],
   "source": []
  }
 ],
 "metadata": {
  "kernelspec": {
   "display_name": "Python 3.7.13 64-bit ('pt10': conda)",
   "language": "python",
   "name": "python3"
  },
  "language_info": {
   "codemirror_mode": {
    "name": "ipython",
    "version": 3
   },
   "file_extension": ".py",
   "mimetype": "text/x-python",
   "name": "python",
   "nbconvert_exporter": "python",
   "pygments_lexer": "ipython3",
   "version": "3.7.13"
  },
  "orig_nbformat": 4,
  "vscode": {
   "interpreter": {
    "hash": "d51e6962ef4cca746a608d0a67209086d135a3414651ca2ba27acebb6daa21dd"
   }
  }
 },
 "nbformat": 4,
 "nbformat_minor": 2
}
